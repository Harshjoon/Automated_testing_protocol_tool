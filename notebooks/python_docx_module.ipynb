{
 "cells": [
  {
   "cell_type": "code",
   "execution_count": 2,
   "id": "e2dc4439",
   "metadata": {},
   "outputs": [],
   "source": [
    "import docx\n",
    "from docx.shared import Pt"
   ]
  },
  {
   "cell_type": "code",
   "execution_count": 4,
   "id": "72aa1893",
   "metadata": {},
   "outputs": [],
   "source": [
    "# create a document\n",
    "doc = docx.Document()\n",
    "# add title\n",
    "doc.add_heading(\"Test document\",0)\n",
    "\n",
    "para = doc.add_paragraph().add_run(\"This is a test paragraph.\")\n",
    "para.font.size = Pt(12)\n",
    "\n",
    "doc.save(\"../documents/test.docx\")"
   ]
  },
  {
   "cell_type": "code",
   "execution_count": 5,
   "id": "be1bd2e7",
   "metadata": {},
   "outputs": [],
   "source": [
    "# first page\n",
    "heading = "
   ]
  },
  {
   "cell_type": "code",
   "execution_count": 6,
   "id": "74f24738",
   "metadata": {},
   "outputs": [],
   "source": [
    "# second page"
   ]
  },
  {
   "cell_type": "code",
   "execution_count": 7,
   "id": "2fafcc78",
   "metadata": {},
   "outputs": [],
   "source": [
    "a = \"abcdef1234\""
   ]
  },
  {
   "cell_type": "code",
   "execution_count": 8,
   "id": "d865c8cf",
   "metadata": {},
   "outputs": [
    {
     "data": {
      "text/plain": [
       "'1234'"
      ]
     },
     "execution_count": 8,
     "metadata": {},
     "output_type": "execute_result"
    }
   ],
   "source": [
    "a[-4:]"
   ]
  },
  {
   "cell_type": "code",
   "execution_count": null,
   "id": "e22f61e3",
   "metadata": {},
   "outputs": [],
   "source": []
  }
 ],
 "metadata": {
  "kernelspec": {
   "display_name": "Python 3 (ipykernel)",
   "language": "python",
   "name": "python3"
  },
  "language_info": {
   "codemirror_mode": {
    "name": "ipython",
    "version": 3
   },
   "file_extension": ".py",
   "mimetype": "text/x-python",
   "name": "python",
   "nbconvert_exporter": "python",
   "pygments_lexer": "ipython3",
   "version": "3.9.13"
  }
 },
 "nbformat": 4,
 "nbformat_minor": 5
}
