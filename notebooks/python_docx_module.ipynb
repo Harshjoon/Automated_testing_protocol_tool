{
 "cells": [
  {
   "cell_type": "code",
   "execution_count": 2,
   "id": "9ac79567",
   "metadata": {},
   "outputs": [],
   "source": [
    "import docx\n",
    "from docx.shared import Pt"
   ]
  },
  {
   "cell_type": "code",
   "execution_count": 3,
   "id": "e2c8269b",
   "metadata": {},
   "outputs": [],
   "source": [
    "# create a document\n",
    "doc = docx.Document()\n",
    "# add title\n",
    "doc.add_heading(\"Test document\",0)\n",
    "\n",
    "para = doc.add_paragraph().add_run(\"This is a test paragraph.\")\n",
    "para.font.size = Pt(12)\n",
    "\n",
    "doc.save(\"../documents/test.docx\")"
   ]
  }
 ],
 "metadata": {
  "kernelspec": {
   "display_name": "Python 3 (ipykernel)",
   "language": "python",
   "name": "python3"
  },
  "language_info": {
   "codemirror_mode": {
    "name": "ipython",
    "version": 3
   },
   "file_extension": ".py",
   "mimetype": "text/x-python",
   "name": "python",
   "nbconvert_exporter": "python",
   "pygments_lexer": "ipython3",
   "version": "3.9.13"
  }
 },
 "nbformat": 4,
 "nbformat_minor": 5
}
