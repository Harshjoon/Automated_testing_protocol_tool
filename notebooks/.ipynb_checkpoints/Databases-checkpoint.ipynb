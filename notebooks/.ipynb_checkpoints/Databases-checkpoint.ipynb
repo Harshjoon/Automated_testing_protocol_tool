{
 "cells": [
  {
   "cell_type": "code",
   "execution_count": 6,
   "id": "1b07ea2a",
   "metadata": {},
   "outputs": [
    {
     "name": "stdout",
     "output_type": "stream",
     "text": [
      "Collecting mysql-connector-python"
     ]
    },
    {
     "name": "stderr",
     "output_type": "stream",
     "text": [
      "ERROR: pip's dependency resolver does not currently take into account all the packages that are installed. This behaviour is the source of the following dependency conflicts.\n",
      "tensorboard 2.11.2 requires protobuf<4,>=3.9.2, but you have protobuf 4.21.12 which is incompatible.\n",
      "tensorflow-intel 2.11.0 requires protobuf<3.20,>=3.9.2, but you have protobuf 4.21.12 which is incompatible.\n",
      "\n",
      "[notice] A new release of pip is available: 23.1.2 -> 23.2.1\n",
      "[notice] To update, run: python.exe -m pip install --upgrade pip\n"
     ]
    },
    {
     "name": "stdout",
     "output_type": "stream",
     "text": [
      "\n",
      "  Downloading mysql_connector_python-8.1.0-cp39-cp39-win_amd64.whl (10.8 MB)\n",
      "     --------------------------------------- 10.8/10.8 MB 21.8 MB/s eta 0:00:00\n",
      "Collecting protobuf<=4.21.12,>=4.21.1 (from mysql-connector-python)\n",
      "  Downloading protobuf-4.21.12-cp39-cp39-win_amd64.whl (527 kB)\n",
      "     ------------------------------------- 527.0/527.0 kB 32.3 MB/s eta 0:00:00\n",
      "Installing collected packages: protobuf, mysql-connector-python\n",
      "  Attempting uninstall: protobuf\n",
      "    Found existing installation: protobuf 3.19.6\n",
      "    Uninstalling protobuf-3.19.6:\n",
      "      Successfully uninstalled protobuf-3.19.6\n",
      "Successfully installed mysql-connector-python-8.1.0 protobuf-4.21.12\n"
     ]
    }
   ],
   "source": [
    "#!pip install mysql\n",
    "!pip install mysql-connector-python"
   ]
  },
  {
   "cell_type": "markdown",
   "id": "918ca5e6",
   "metadata": {},
   "source": [
    "## Create sqlite database"
   ]
  },
  {
   "cell_type": "code",
   "execution_count": 1,
   "id": "96b53a36",
   "metadata": {},
   "outputs": [],
   "source": [
    "import sqlite3\n",
    "from sqlite3 import Error"
   ]
  },
  {
   "cell_type": "code",
   "execution_count": 7,
   "id": "114571b7",
   "metadata": {},
   "outputs": [],
   "source": [
    "db_file = '../test.db'\n",
    "conn = sqlite3.connect(db_file)"
   ]
  },
  {
   "cell_type": "code",
   "execution_count": 8,
   "id": "fc0439c6",
   "metadata": {},
   "outputs": [],
   "source": [
    "cur = conn.cursor()"
   ]
  },
  {
   "cell_type": "code",
   "execution_count": 66,
   "id": "17af24e2",
   "metadata": {},
   "outputs": [
    {
     "data": {
      "text/plain": [
       "<sqlite3.Cursor at 0x243f7d3a730>"
      ]
     },
     "execution_count": 66,
     "metadata": {},
     "output_type": "execute_result"
    }
   ],
   "source": [
    "cur.execute('CREATE TABLE IF NOT EXISTS \"users\" (\\\n",
    "        \"username\" TEXT,\\\n",
    "        \"password\" TEXT\\\n",
    "        );')"
   ]
  },
  {
   "cell_type": "code",
   "execution_count": 9,
   "id": "24497bbd",
   "metadata": {},
   "outputs": [
    {
     "data": {
      "text/plain": [
       "<sqlite3.Cursor at 0x210c9a333b0>"
      ]
     },
     "execution_count": 9,
     "metadata": {},
     "output_type": "execute_result"
    }
   ],
   "source": [
    "#cur.execute('INSERT INTO \"users\" VALUES(\\'admin\\',\\'admin\\')')\n",
    "cur.execute('INSERT INTO \"users\" VALUES(\\'admin_1\\',\\'admin_1\\')')"
   ]
  },
  {
   "cell_type": "code",
   "execution_count": 10,
   "id": "9d6d0e88",
   "metadata": {},
   "outputs": [
    {
     "data": {
      "text/plain": [
       "<sqlite3.Cursor at 0x210c9a333b0>"
      ]
     },
     "execution_count": 10,
     "metadata": {},
     "output_type": "execute_result"
    }
   ],
   "source": [
    "cur.execute(\"SELECT username, password FROM users\")"
   ]
  },
  {
   "cell_type": "code",
   "execution_count": 11,
   "id": "91126745",
   "metadata": {},
   "outputs": [
    {
     "data": {
      "text/plain": [
       "[('admin', 'admin'), ('admin_1', 'admin_1')]"
      ]
     },
     "execution_count": 11,
     "metadata": {},
     "output_type": "execute_result"
    }
   ],
   "source": [
    "cur.fetchall()"
   ]
  },
  {
   "cell_type": "code",
   "execution_count": 12,
   "id": "972b54d5",
   "metadata": {},
   "outputs": [],
   "source": [
    "conn.commit()"
   ]
  },
  {
   "cell_type": "code",
   "execution_count": 13,
   "id": "439ceabf",
   "metadata": {},
   "outputs": [],
   "source": [
    "conn.close()"
   ]
  },
  {
   "cell_type": "code",
   "execution_count": 35,
   "id": "fd05ce9b",
   "metadata": {},
   "outputs": [],
   "source": [
    "# retrive data"
   ]
  },
  {
   "cell_type": "code",
   "execution_count": 19,
   "id": "bccc84b5",
   "metadata": {},
   "outputs": [],
   "source": [
    "db_file = '../test.db'\n",
    "conn = sqlite3.connect(db_file)\n",
    "cur = conn.cursor()"
   ]
  },
  {
   "cell_type": "code",
   "execution_count": 22,
   "id": "98f35a16",
   "metadata": {},
   "outputs": [
    {
     "data": {
      "text/plain": [
       "<sqlite3.Cursor at 0x210c9a339d0>"
      ]
     },
     "execution_count": 22,
     "metadata": {},
     "output_type": "execute_result"
    }
   ],
   "source": [
    "username = \"admin_1\"\n",
    "cur.execute('SELECT * FROM users WHERE username=?',[username])"
   ]
  },
  {
   "cell_type": "code",
   "execution_count": 23,
   "id": "5593dae0",
   "metadata": {},
   "outputs": [],
   "source": [
    "out = cur.fetchall()"
   ]
  },
  {
   "cell_type": "code",
   "execution_count": 26,
   "id": "f142acd5",
   "metadata": {},
   "outputs": [],
   "source": [
    "u,p = out[0]"
   ]
  },
  {
   "cell_type": "code",
   "execution_count": 28,
   "id": "9b9ec284",
   "metadata": {},
   "outputs": [
    {
     "data": {
      "text/plain": [
       "'admin_1'"
      ]
     },
     "execution_count": 28,
     "metadata": {},
     "output_type": "execute_result"
    }
   ],
   "source": []
  },
  {
   "cell_type": "code",
   "execution_count": 7,
   "id": "96aab58c",
   "metadata": {},
   "outputs": [],
   "source": [
    "import mysql"
   ]
  },
  {
   "cell_type": "code",
   "execution_count": null,
   "id": "0a609ab9",
   "metadata": {},
   "outputs": [],
   "source": [
    "my_db = mysql.connector.connect(\n",
    "    host=\"\"\n",
    ")"
   ]
  },
  {
   "cell_type": "markdown",
   "id": "de895195",
   "metadata": {},
   "source": [
    "## Create database on Qt"
   ]
  },
  {
   "cell_type": "code",
   "execution_count": 29,
   "id": "87b5f909",
   "metadata": {},
   "outputs": [],
   "source": [
    "from PyQt6.QtSql import QSqlDatabase, QSqlQuery"
   ]
  },
  {
   "cell_type": "code",
   "execution_count": 33,
   "id": "ea099647",
   "metadata": {},
   "outputs": [],
   "source": [
    "db = QSqlDatabase.addDatabase(\n",
    "    \"QSQLITE\"\n",
    ")"
   ]
  },
  {
   "cell_type": "code",
   "execution_count": 29,
   "id": "98fca7c6",
   "metadata": {},
   "outputs": [],
   "source": [
    "db.setDatabaseName(\"../test.db\")"
   ]
  },
  {
   "cell_type": "code",
   "execution_count": 45,
   "id": "ad250154",
   "metadata": {},
   "outputs": [
    {
     "data": {
      "text/plain": [
       "False"
      ]
     },
     "execution_count": 45,
     "metadata": {},
     "output_type": "execute_result"
    }
   ],
   "source": [
    "query = QSqlQuery()\n",
    "query.prepare('SELECT * FROM users')\n",
    "query.exec()"
   ]
  },
  {
   "cell_type": "code",
   "execution_count": 30,
   "id": "0061254d",
   "metadata": {},
   "outputs": [],
   "source": [
    "db = QSqlDatabase.database(\"../test.db\")"
   ]
  },
  {
   "cell_type": "code",
   "execution_count": 47,
   "id": "a29d8aa0",
   "metadata": {},
   "outputs": [],
   "source": [
    "out = db.exec('SELECT * FROM users')"
   ]
  },
  {
   "cell_type": "code",
   "execution_count": 32,
   "id": "b3e93c7e",
   "metadata": {},
   "outputs": [
    {
     "data": {
      "text/plain": [
       "False"
      ]
     },
     "execution_count": 32,
     "metadata": {},
     "output_type": "execute_result"
    }
   ],
   "source": [
    "db.open()"
   ]
  },
  {
   "cell_type": "code",
   "execution_count": null,
   "id": "93e1bc3b",
   "metadata": {},
   "outputs": [],
   "source": []
  },
  {
   "cell_type": "code",
   "execution_count": null,
   "id": "982f5c0b",
   "metadata": {},
   "outputs": [],
   "source": []
  },
  {
   "cell_type": "code",
   "execution_count": null,
   "id": "659de906",
   "metadata": {},
   "outputs": [],
   "source": []
  },
  {
   "cell_type": "code",
   "execution_count": null,
   "id": "3a631569",
   "metadata": {},
   "outputs": [],
   "source": []
  },
  {
   "cell_type": "code",
   "execution_count": null,
   "id": "26653c81",
   "metadata": {},
   "outputs": [],
   "source": []
  },
  {
   "cell_type": "code",
   "execution_count": null,
   "id": "52f11caa",
   "metadata": {},
   "outputs": [],
   "source": []
  },
  {
   "cell_type": "code",
   "execution_count": null,
   "id": "0e77d868",
   "metadata": {},
   "outputs": [],
   "source": []
  },
  {
   "cell_type": "code",
   "execution_count": null,
   "id": "8927495b",
   "metadata": {},
   "outputs": [],
   "source": []
  }
 ],
 "metadata": {
  "kernelspec": {
   "display_name": "Python 3 (ipykernel)",
   "language": "python",
   "name": "python3"
  },
  "language_info": {
   "codemirror_mode": {
    "name": "ipython",
    "version": 3
   },
   "file_extension": ".py",
   "mimetype": "text/x-python",
   "name": "python",
   "nbconvert_exporter": "python",
   "pygments_lexer": "ipython3",
   "version": "3.9.13"
  }
 },
 "nbformat": 4,
 "nbformat_minor": 5
}
