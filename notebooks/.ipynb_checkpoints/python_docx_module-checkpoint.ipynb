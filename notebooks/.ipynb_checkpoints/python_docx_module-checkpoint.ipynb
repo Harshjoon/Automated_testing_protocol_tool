{
 "cells": [
  {
   "cell_type": "code",
   "execution_count": 2,
   "id": "0bda6466",
   "metadata": {},
   "outputs": [],
   "source": [
    "import docx\n",
    "from docx.shared import Pt"
   ]
  },
  {
   "cell_type": "code",
   "execution_count": 4,
   "id": "ab6a843b",
   "metadata": {},
   "outputs": [],
   "source": [
    "# create a document\n",
    "doc = docx.Document()\n",
    "# add title\n",
    "doc.add_heading(\"Test document\",0)\n",
    "\n",
    "para = doc.add_paragraph().add_run(\"This is a test paragraph.\")\n",
    "para.font.size = Pt(12)\n",
    "\n",
    "doc.save(\"../documents/test.docx\")"
   ]
  },
  {
   "cell_type": "code",
   "execution_count": 5,
   "id": "10fb6fb3",
   "metadata": {},
   "outputs": [],
   "source": [
    "# first page\n"
   ]
  },
  {
   "cell_type": "code",
   "execution_count": 6,
   "id": "4b222398",
   "metadata": {},
   "outputs": [],
   "source": [
    "# second page"
   ]
  },
  {
   "cell_type": "code",
   "execution_count": null,
   "id": "cc4ba356",
   "metadata": {},
   "outputs": [],
   "source": []
  }
 ],
 "metadata": {
  "kernelspec": {
   "display_name": "Python 3 (ipykernel)",
   "language": "python",
   "name": "python3"
  },
  "language_info": {
   "codemirror_mode": {
    "name": "ipython",
    "version": 3
   },
   "file_extension": ".py",
   "mimetype": "text/x-python",
   "name": "python",
   "nbconvert_exporter": "python",
   "pygments_lexer": "ipython3",
   "version": "3.9.13"
  }
 },
 "nbformat": 4,
 "nbformat_minor": 5
}
